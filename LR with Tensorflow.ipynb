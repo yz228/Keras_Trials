{
 "cells": [
  {
   "cell_type": "markdown",
   "metadata": {},
   "source": [
    "# Logistic Regression Algorithm with Keras\n",
    "\n",
    "This is a simple logistic regression algorithm implemented using Keras.\n",
    "First, we will import the libraries needed for the algorithm."
   ]
  },
  {
   "cell_type": "code",
   "execution_count": null,
   "metadata": {},
   "outputs": [],
   "source": [
    "import numpy as np\n",
    "from keras import optimizers\n",
    "from keras.models import Sequential\n",
    "from keras.layers import Dense"
   ]
  },
  {
   "cell_type": "markdown",
   "metadata": {},
   "source": [
    "Next, we will generate some data for the LR algorithm to work on. The first dataset consists of vectors in the form of [0, 1, 2,..., 19], normalized to the range of (0, 1), and then contaminated by random noise. The second dataset is made up of pure random noise."
   ]
  },
  {
   "cell_type": "code",
   "execution_count": null,
   "metadata": {},
   "outputs": [],
   "source": [
    "# Generate two datasets\n",
    "datagroup1 = (np.tile(np.arange(20),(1000,1))/19 + np.random.random((1000,20)))/2\n",
    "datagroup2 = np.random.random((1000,20))\n",
    "datagroup1_labeled = np.concatenate((datagroup1, np.ones((1000,1))), axis=1) \n",
    "datagroup2_labeled = np.concatenate((datagroup2, np.zeros((1000,1))), axis=1) "
   ]
  },
  {
   "cell_type": "markdown",
   "metadata": {},
   "source": [
    "Then, we concatenate the two dataset and shuffle them before feeding them to the LR algorithm. We also need to do some reshaping to make sure the data input is of the right dimensions."
   ]
  },
  {
   "cell_type": "code",
   "execution_count": null,
   "metadata": {},
   "outputs": [],
   "source": [
    "alldata = np.concatenate((datagroup1_labeled, datagroup2_labeled), axis=0)\n",
    "np.random.shuffle(alldata)\n",
    "# The first 1500 entries are used as train data\n",
    "x_train = alldata[0:1500,0:20]\n",
    "y_train = alldata[0:1500,20]\n",
    "# The next 500 entries are used as test data\n",
    "x_test = alldata[1500:2000,0:20]\n",
    "y_test = alldata[1500:2000,20]"
   ]
  },
  {
   "cell_type": "markdown",
   "metadata": {},
   "source": [
    "Implementing a LR model in Keras is easy, just a single Dense layer with one neural, followed by a logit(sigmoid) activation function."
   ]
  },
  {
   "cell_type": "code",
   "execution_count": null,
   "metadata": {},
   "outputs": [],
   "source": [
    "# Keras implementation of LR \n",
    "model = Sequential()\n",
    "model.add(Dense(1, input_dim=20, activation='sigmoid'))"
   ]
  },
  {
   "cell_type": "markdown",
   "metadata": {},
   "source": [
    "We then have to specify the optimizer, and some hyperparameters used for the model."
   ]
  },
  {
   "cell_type": "code",
   "execution_count": null,
   "metadata": {},
   "outputs": [],
   "source": [
    "# Define a customized Adam optimizer\n",
    "customizedadam = optimizers.Adam(lr=0.0015, beta_1=0.9, beta_2=0.999, epsilon=None, decay=0.0, amsgrad=False)\n",
    "# Compile the LR model\n",
    "model.compile(loss='binary_crossentropy', optimizer=customizedadam, metrics=['accuracy'])"
   ]
  },
  {
   "cell_type": "markdown",
   "metadata": {},
   "source": [
    "Start training and display the training accuracy at the end."
   ]
  },
  {
   "cell_type": "code",
   "execution_count": null,
   "metadata": {},
   "outputs": [],
   "source": [
    "history = model.fit(x_train, y_train, epochs=100, batch_size=128)\n",
    "accuracy_history = history.history['acc']\n",
    "accuracy_history_last = accuracy_history[-1] * 100\n",
    "print(\"Test Accuracy:\", str(\"%.1f\" % accuracy_history_last), \"%\")"
   ]
  },
  {
   "cell_type": "markdown",
   "metadata": {},
   "source": [
    "After training the model, we will use the model to classify our test set and report the accuracy."
   ]
  },
  {
   "cell_type": "code",
   "execution_count": null,
   "metadata": {},
   "outputs": [],
   "source": [
    "score = model.evaluate(x_test, y_test, batch_size=64)\n",
    "score_last = score[-1] * 100\n",
    "print(\"Test Accuracy:\", str(\"%.1f\" % score_last), \"%\")"
   ]
  },
  {
   "cell_type": "markdown",
   "metadata": {},
   "source": [
    "As we see, the simplist LR model implemented in Keras can achieve 95+% acccuracy when classifying noise contaminated data versus pure random noise. This is performed with minimal training time and very small data size."
   ]
  }
 ],
 "metadata": {
  "kernelspec": {
   "display_name": "Python 3",
   "language": "python",
   "name": "python3"
  },
  "language_info": {
   "codemirror_mode": {
    "name": "ipython",
    "version": 3
   },
   "file_extension": ".py",
   "mimetype": "text/x-python",
   "name": "python",
   "nbconvert_exporter": "python",
   "pygments_lexer": "ipython3",
   "version": "3.7.2"
  }
 },
 "nbformat": 4,
 "nbformat_minor": 2
}
